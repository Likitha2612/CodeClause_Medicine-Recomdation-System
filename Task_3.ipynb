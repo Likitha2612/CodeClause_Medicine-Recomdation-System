{
 "cells": [
  {
   "cell_type": "markdown",
   "id": "804089ac",
   "metadata": {},
   "source": [
    "# Import Libraries"
   ]
  },
  {
   "cell_type": "code",
   "execution_count": 1,
   "id": "666bc343",
   "metadata": {},
   "outputs": [],
   "source": [
    "import numpy as np\n",
    "import pandas as pd\n",
    "from warnings import filterwarnings\n",
    "filterwarnings(\"ignore\")"
   ]
  },
  {
   "cell_type": "markdown",
   "id": "27395b72",
   "metadata": {},
   "source": [
    "# Load dataset:"
   ]
  },
  {
   "cell_type": "code",
   "execution_count": 38,
   "id": "ea451cf4",
   "metadata": {},
   "outputs": [],
   "source": [
    "data_frame=pd.read_csv('medicine.csv')"
   ]
  },
  {
   "cell_type": "code",
   "execution_count": 39,
   "id": "dc484868",
   "metadata": {},
   "outputs": [
    {
     "data": {
      "text/html": [
       "<div>\n",
       "<style scoped>\n",
       "    .dataframe tbody tr th:only-of-type {\n",
       "        vertical-align: middle;\n",
       "    }\n",
       "\n",
       "    .dataframe tbody tr th {\n",
       "        vertical-align: top;\n",
       "    }\n",
       "\n",
       "    .dataframe thead th {\n",
       "        text-align: right;\n",
       "    }\n",
       "</style>\n",
       "<table border=\"1\" class=\"dataframe\">\n",
       "  <thead>\n",
       "    <tr style=\"text-align: right;\">\n",
       "      <th></th>\n",
       "      <th>index</th>\n",
       "      <th>Drug_Name</th>\n",
       "      <th>Reason</th>\n",
       "      <th>Description</th>\n",
       "    </tr>\n",
       "  </thead>\n",
       "  <tbody>\n",
       "    <tr>\n",
       "      <th>0</th>\n",
       "      <td>1</td>\n",
       "      <td>A CN Gel(Topical) 20gmA CN Soap 75gm</td>\n",
       "      <td>Acne</td>\n",
       "      <td>Mild to moderate acne (spots)</td>\n",
       "    </tr>\n",
       "    <tr>\n",
       "      <th>1</th>\n",
       "      <td>2</td>\n",
       "      <td>A Ret 0.05% Gel 20gmA Ret 0.1% Gel 20gmA Ret 0...</td>\n",
       "      <td>Acne</td>\n",
       "      <td>A RET 0.025% is a prescription medicine that i...</td>\n",
       "    </tr>\n",
       "    <tr>\n",
       "      <th>2</th>\n",
       "      <td>3</td>\n",
       "      <td>ACGEL CL NANO Gel 15gm</td>\n",
       "      <td>Acne</td>\n",
       "      <td>It is used to treat acne vulgaris in people 12...</td>\n",
       "    </tr>\n",
       "    <tr>\n",
       "      <th>3</th>\n",
       "      <td>4</td>\n",
       "      <td>ACGEL NANO Gel 15gm</td>\n",
       "      <td>Acne</td>\n",
       "      <td>It is used to treat acne vulgaris in people 12...</td>\n",
       "    </tr>\n",
       "    <tr>\n",
       "      <th>4</th>\n",
       "      <td>5</td>\n",
       "      <td>Acleen 1% Lotion 25ml</td>\n",
       "      <td>Acne</td>\n",
       "      <td>treat the most severe form of acne (nodular ac...</td>\n",
       "    </tr>\n",
       "  </tbody>\n",
       "</table>\n",
       "</div>"
      ],
      "text/plain": [
       "   index                                          Drug_Name Reason  \\\n",
       "0      1               A CN Gel(Topical) 20gmA CN Soap 75gm   Acne   \n",
       "1      2  A Ret 0.05% Gel 20gmA Ret 0.1% Gel 20gmA Ret 0...   Acne   \n",
       "2      3                             ACGEL CL NANO Gel 15gm   Acne   \n",
       "3      4                                ACGEL NANO Gel 15gm   Acne   \n",
       "4      5                              Acleen 1% Lotion 25ml   Acne   \n",
       "\n",
       "                                         Description  \n",
       "0                      Mild to moderate acne (spots)  \n",
       "1  A RET 0.025% is a prescription medicine that i...  \n",
       "2  It is used to treat acne vulgaris in people 12...  \n",
       "3  It is used to treat acne vulgaris in people 12...  \n",
       "4  treat the most severe form of acne (nodular ac...  "
      ]
     },
     "execution_count": 39,
     "metadata": {},
     "output_type": "execute_result"
    }
   ],
   "source": [
    "data_frame.head()"
   ]
  },
  {
   "cell_type": "code",
   "execution_count": 40,
   "id": "22edd65d",
   "metadata": {},
   "outputs": [
    {
     "data": {
      "text/plain": [
       "(9720, 4)"
      ]
     },
     "execution_count": 40,
     "metadata": {},
     "output_type": "execute_result"
    }
   ],
   "source": [
    "data_frame.shape"
   ]
  },
  {
   "cell_type": "code",
   "execution_count": 41,
   "id": "70887c3f",
   "metadata": {},
   "outputs": [
    {
     "data": {
      "text/plain": [
       "index          0\n",
       "Drug_Name      0\n",
       "Reason         0\n",
       "Description    0\n",
       "dtype: int64"
      ]
     },
     "execution_count": 41,
     "metadata": {},
     "output_type": "execute_result"
    }
   ],
   "source": [
    "data_frame.isnull().sum()"
   ]
  },
  {
   "cell_type": "code",
   "execution_count": 42,
   "id": "e8cc849d",
   "metadata": {},
   "outputs": [],
   "source": [
    "data_frame.dropna(inplace=True)"
   ]
  },
  {
   "cell_type": "code",
   "execution_count": 43,
   "id": "75d58329",
   "metadata": {},
   "outputs": [
    {
     "data": {
      "text/plain": [
       "0"
      ]
     },
     "execution_count": 43,
     "metadata": {},
     "output_type": "execute_result"
    }
   ],
   "source": [
    "data_frame.duplicated().sum()"
   ]
  },
  {
   "cell_type": "markdown",
   "id": "ae7d09cd",
   "metadata": {},
   "source": [
    "# Description"
   ]
  },
  {
   "cell_type": "code",
   "execution_count": 44,
   "id": "e80f0ae8",
   "metadata": {},
   "outputs": [
    {
     "data": {
      "text/plain": [
       "0                           Mild to moderate acne (spots)\n",
       "1       A RET 0.025% is a prescription medicine that i...\n",
       "2       It is used to treat acne vulgaris in people 12...\n",
       "3       It is used to treat acne vulgaris in people 12...\n",
       "4       treat the most severe form of acne (nodular ac...\n",
       "                              ...                        \n",
       "9715                              used for treating warts\n",
       "9716                        used to soften the skin cells\n",
       "9717                                       used for scars\n",
       "9718                                      used for wounds\n",
       "9719    used to treat and remove raised warts (usually...\n",
       "Name: Description, Length: 9720, dtype: object"
      ]
     },
     "execution_count": 44,
     "metadata": {},
     "output_type": "execute_result"
    }
   ],
   "source": [
    "data_frame['Description']"
   ]
  },
  {
   "cell_type": "code",
   "execution_count": 45,
   "id": "0cd631a5",
   "metadata": {},
   "outputs": [],
   "source": [
    "data_frame['Reason'] = data_frame['Reason'].apply(lambda x:x.split())\n",
    "data_frame['Description'] = data_frame['Description'].apply(lambda x:x.split())"
   ]
  },
  {
   "cell_type": "code",
   "execution_count": 46,
   "id": "e1fd02d8",
   "metadata": {},
   "outputs": [],
   "source": [
    "data_frame['Description'] = data_frame['Description'].apply(lambda x:[i.replace(\" \",\"\") for i in x])"
   ]
  },
  {
   "cell_type": "code",
   "execution_count": 47,
   "id": "1de30871",
   "metadata": {},
   "outputs": [],
   "source": [
    "data_frame['tags'] = data_frame['Description'] + data_frame['Reason'] "
   ]
  },
  {
   "cell_type": "code",
   "execution_count": 48,
   "id": "cca78b98",
   "metadata": {},
   "outputs": [],
   "source": [
    "new_data_frame = data_frame[['index','Drug_Name','tags']]"
   ]
  },
  {
   "cell_type": "code",
   "execution_count": 49,
   "id": "1ac95b9c",
   "metadata": {},
   "outputs": [
    {
     "data": {
      "text/html": [
       "<div>\n",
       "<style scoped>\n",
       "    .dataframe tbody tr th:only-of-type {\n",
       "        vertical-align: middle;\n",
       "    }\n",
       "\n",
       "    .dataframe tbody tr th {\n",
       "        vertical-align: top;\n",
       "    }\n",
       "\n",
       "    .dataframe thead th {\n",
       "        text-align: right;\n",
       "    }\n",
       "</style>\n",
       "<table border=\"1\" class=\"dataframe\">\n",
       "  <thead>\n",
       "    <tr style=\"text-align: right;\">\n",
       "      <th></th>\n",
       "      <th>index</th>\n",
       "      <th>Drug_Name</th>\n",
       "      <th>tags</th>\n",
       "    </tr>\n",
       "  </thead>\n",
       "  <tbody>\n",
       "    <tr>\n",
       "      <th>0</th>\n",
       "      <td>1</td>\n",
       "      <td>A CN Gel(Topical) 20gmA CN Soap 75gm</td>\n",
       "      <td>[Mild, to, moderate, acne, (spots), Acne]</td>\n",
       "    </tr>\n",
       "    <tr>\n",
       "      <th>1</th>\n",
       "      <td>2</td>\n",
       "      <td>A Ret 0.05% Gel 20gmA Ret 0.1% Gel 20gmA Ret 0...</td>\n",
       "      <td>[A, RET, 0.025%, is, a, prescription, medicine...</td>\n",
       "    </tr>\n",
       "    <tr>\n",
       "      <th>2</th>\n",
       "      <td>3</td>\n",
       "      <td>ACGEL CL NANO Gel 15gm</td>\n",
       "      <td>[It, is, used, to, treat, acne, vulgaris, in, ...</td>\n",
       "    </tr>\n",
       "    <tr>\n",
       "      <th>3</th>\n",
       "      <td>4</td>\n",
       "      <td>ACGEL NANO Gel 15gm</td>\n",
       "      <td>[It, is, used, to, treat, acne, vulgaris, in, ...</td>\n",
       "    </tr>\n",
       "    <tr>\n",
       "      <th>4</th>\n",
       "      <td>5</td>\n",
       "      <td>Acleen 1% Lotion 25ml</td>\n",
       "      <td>[treat, the, most, severe, form, of, acne, (no...</td>\n",
       "    </tr>\n",
       "    <tr>\n",
       "      <th>...</th>\n",
       "      <td>...</td>\n",
       "      <td>...</td>\n",
       "      <td>...</td>\n",
       "    </tr>\n",
       "    <tr>\n",
       "      <th>9715</th>\n",
       "      <td>9716</td>\n",
       "      <td>T Muce Ointment 5gm</td>\n",
       "      <td>[used, for, treating, warts, Wound]</td>\n",
       "    </tr>\n",
       "    <tr>\n",
       "      <th>9716</th>\n",
       "      <td>9717</td>\n",
       "      <td>Wokadine 10% Solution 100mlWokadine Solution 5...</td>\n",
       "      <td>[used, to, soften, the, skin, cells, Wound]</td>\n",
       "    </tr>\n",
       "    <tr>\n",
       "      <th>9717</th>\n",
       "      <td>9718</td>\n",
       "      <td>Wokadine M Onit 10gm</td>\n",
       "      <td>[used, for, scars, Wound]</td>\n",
       "    </tr>\n",
       "    <tr>\n",
       "      <th>9718</th>\n",
       "      <td>9719</td>\n",
       "      <td>Wound Fix Solution 100ml</td>\n",
       "      <td>[used, for, wounds, Wound]</td>\n",
       "    </tr>\n",
       "    <tr>\n",
       "      <th>9719</th>\n",
       "      <td>9720</td>\n",
       "      <td>Wounsol Ointment 15gm</td>\n",
       "      <td>[used, to, treat, and, remove, raised, warts, ...</td>\n",
       "    </tr>\n",
       "  </tbody>\n",
       "</table>\n",
       "<p>9720 rows × 3 columns</p>\n",
       "</div>"
      ],
      "text/plain": [
       "      index                                          Drug_Name  \\\n",
       "0         1               A CN Gel(Topical) 20gmA CN Soap 75gm   \n",
       "1         2  A Ret 0.05% Gel 20gmA Ret 0.1% Gel 20gmA Ret 0...   \n",
       "2         3                             ACGEL CL NANO Gel 15gm   \n",
       "3         4                                ACGEL NANO Gel 15gm   \n",
       "4         5                              Acleen 1% Lotion 25ml   \n",
       "...     ...                                                ...   \n",
       "9715   9716                                T Muce Ointment 5gm   \n",
       "9716   9717  Wokadine 10% Solution 100mlWokadine Solution 5...   \n",
       "9717   9718                               Wokadine M Onit 10gm   \n",
       "9718   9719                           Wound Fix Solution 100ml   \n",
       "9719   9720                              Wounsol Ointment 15gm   \n",
       "\n",
       "                                                   tags  \n",
       "0             [Mild, to, moderate, acne, (spots), Acne]  \n",
       "1     [A, RET, 0.025%, is, a, prescription, medicine...  \n",
       "2     [It, is, used, to, treat, acne, vulgaris, in, ...  \n",
       "3     [It, is, used, to, treat, acne, vulgaris, in, ...  \n",
       "4     [treat, the, most, severe, form, of, acne, (no...  \n",
       "...                                                 ...  \n",
       "9715                [used, for, treating, warts, Wound]  \n",
       "9716        [used, to, soften, the, skin, cells, Wound]  \n",
       "9717                          [used, for, scars, Wound]  \n",
       "9718                         [used, for, wounds, Wound]  \n",
       "9719  [used, to, treat, and, remove, raised, warts, ...  \n",
       "\n",
       "[9720 rows x 3 columns]"
      ]
     },
     "execution_count": 49,
     "metadata": {},
     "output_type": "execute_result"
    }
   ],
   "source": [
    "new_data_frame"
   ]
  },
  {
   "cell_type": "code",
   "execution_count": 50,
   "id": "2e82ebec",
   "metadata": {},
   "outputs": [
    {
     "data": {
      "text/plain": [
       "0                      Mild to moderate acne (spots) Acne\n",
       "1       A RET 0.025% is a prescription medicine that i...\n",
       "2       It is used to treat acne vulgaris in people 12...\n",
       "3       It is used to treat acne vulgaris in people 12...\n",
       "4       treat the most severe form of acne (nodular ac...\n",
       "                              ...                        \n",
       "9715                        used for treating warts Wound\n",
       "9716                  used to soften the skin cells Wound\n",
       "9717                                 used for scars Wound\n",
       "9718                                used for wounds Wound\n",
       "9719    used to treat and remove raised warts (usually...\n",
       "Name: tags, Length: 9720, dtype: object"
      ]
     },
     "execution_count": 50,
     "metadata": {},
     "output_type": "execute_result"
    }
   ],
   "source": [
    "new_data_frame['tags'].apply(lambda x:\" \".join(x))"
   ]
  },
  {
   "cell_type": "code",
   "execution_count": 51,
   "id": "9a0515fb",
   "metadata": {},
   "outputs": [
    {
     "data": {
      "text/html": [
       "<div>\n",
       "<style scoped>\n",
       "    .dataframe tbody tr th:only-of-type {\n",
       "        vertical-align: middle;\n",
       "    }\n",
       "\n",
       "    .dataframe tbody tr th {\n",
       "        vertical-align: top;\n",
       "    }\n",
       "\n",
       "    .dataframe thead th {\n",
       "        text-align: right;\n",
       "    }\n",
       "</style>\n",
       "<table border=\"1\" class=\"dataframe\">\n",
       "  <thead>\n",
       "    <tr style=\"text-align: right;\">\n",
       "      <th></th>\n",
       "      <th>index</th>\n",
       "      <th>Drug_Name</th>\n",
       "      <th>tags</th>\n",
       "    </tr>\n",
       "  </thead>\n",
       "  <tbody>\n",
       "    <tr>\n",
       "      <th>0</th>\n",
       "      <td>1</td>\n",
       "      <td>A CN Gel(Topical) 20gmA CN Soap 75gm</td>\n",
       "      <td>[Mild, to, moderate, acne, (spots), Acne]</td>\n",
       "    </tr>\n",
       "    <tr>\n",
       "      <th>1</th>\n",
       "      <td>2</td>\n",
       "      <td>A Ret 0.05% Gel 20gmA Ret 0.1% Gel 20gmA Ret 0...</td>\n",
       "      <td>[A, RET, 0.025%, is, a, prescription, medicine...</td>\n",
       "    </tr>\n",
       "    <tr>\n",
       "      <th>2</th>\n",
       "      <td>3</td>\n",
       "      <td>ACGEL CL NANO Gel 15gm</td>\n",
       "      <td>[It, is, used, to, treat, acne, vulgaris, in, ...</td>\n",
       "    </tr>\n",
       "    <tr>\n",
       "      <th>3</th>\n",
       "      <td>4</td>\n",
       "      <td>ACGEL NANO Gel 15gm</td>\n",
       "      <td>[It, is, used, to, treat, acne, vulgaris, in, ...</td>\n",
       "    </tr>\n",
       "    <tr>\n",
       "      <th>4</th>\n",
       "      <td>5</td>\n",
       "      <td>Acleen 1% Lotion 25ml</td>\n",
       "      <td>[treat, the, most, severe, form, of, acne, (no...</td>\n",
       "    </tr>\n",
       "    <tr>\n",
       "      <th>...</th>\n",
       "      <td>...</td>\n",
       "      <td>...</td>\n",
       "      <td>...</td>\n",
       "    </tr>\n",
       "    <tr>\n",
       "      <th>9715</th>\n",
       "      <td>9716</td>\n",
       "      <td>T Muce Ointment 5gm</td>\n",
       "      <td>[used, for, treating, warts, Wound]</td>\n",
       "    </tr>\n",
       "    <tr>\n",
       "      <th>9716</th>\n",
       "      <td>9717</td>\n",
       "      <td>Wokadine 10% Solution 100mlWokadine Solution 5...</td>\n",
       "      <td>[used, to, soften, the, skin, cells, Wound]</td>\n",
       "    </tr>\n",
       "    <tr>\n",
       "      <th>9717</th>\n",
       "      <td>9718</td>\n",
       "      <td>Wokadine M Onit 10gm</td>\n",
       "      <td>[used, for, scars, Wound]</td>\n",
       "    </tr>\n",
       "    <tr>\n",
       "      <th>9718</th>\n",
       "      <td>9719</td>\n",
       "      <td>Wound Fix Solution 100ml</td>\n",
       "      <td>[used, for, wounds, Wound]</td>\n",
       "    </tr>\n",
       "    <tr>\n",
       "      <th>9719</th>\n",
       "      <td>9720</td>\n",
       "      <td>Wounsol Ointment 15gm</td>\n",
       "      <td>[used, to, treat, and, remove, raised, warts, ...</td>\n",
       "    </tr>\n",
       "  </tbody>\n",
       "</table>\n",
       "<p>9720 rows × 3 columns</p>\n",
       "</div>"
      ],
      "text/plain": [
       "      index                                          Drug_Name  \\\n",
       "0         1               A CN Gel(Topical) 20gmA CN Soap 75gm   \n",
       "1         2  A Ret 0.05% Gel 20gmA Ret 0.1% Gel 20gmA Ret 0...   \n",
       "2         3                             ACGEL CL NANO Gel 15gm   \n",
       "3         4                                ACGEL NANO Gel 15gm   \n",
       "4         5                              Acleen 1% Lotion 25ml   \n",
       "...     ...                                                ...   \n",
       "9715   9716                                T Muce Ointment 5gm   \n",
       "9716   9717  Wokadine 10% Solution 100mlWokadine Solution 5...   \n",
       "9717   9718                               Wokadine M Onit 10gm   \n",
       "9718   9719                           Wound Fix Solution 100ml   \n",
       "9719   9720                              Wounsol Ointment 15gm   \n",
       "\n",
       "                                                   tags  \n",
       "0             [Mild, to, moderate, acne, (spots), Acne]  \n",
       "1     [A, RET, 0.025%, is, a, prescription, medicine...  \n",
       "2     [It, is, used, to, treat, acne, vulgaris, in, ...  \n",
       "3     [It, is, used, to, treat, acne, vulgaris, in, ...  \n",
       "4     [treat, the, most, severe, form, of, acne, (no...  \n",
       "...                                                 ...  \n",
       "9715                [used, for, treating, warts, Wound]  \n",
       "9716        [used, to, soften, the, skin, cells, Wound]  \n",
       "9717                          [used, for, scars, Wound]  \n",
       "9718                         [used, for, wounds, Wound]  \n",
       "9719  [used, to, treat, and, remove, raised, warts, ...  \n",
       "\n",
       "[9720 rows x 3 columns]"
      ]
     },
     "execution_count": 51,
     "metadata": {},
     "output_type": "execute_result"
    }
   ],
   "source": [
    "new_data_frame"
   ]
  },
  {
   "cell_type": "code",
   "execution_count": 52,
   "id": "9cd1dce6",
   "metadata": {},
   "outputs": [],
   "source": [
    "new_data_frame['tags'] = new_data_frame['tags'].apply(lambda x:\" \".join(x))"
   ]
  },
  {
   "cell_type": "code",
   "execution_count": 53,
   "id": "b51e0fca",
   "metadata": {},
   "outputs": [
    {
     "data": {
      "text/html": [
       "<div>\n",
       "<style scoped>\n",
       "    .dataframe tbody tr th:only-of-type {\n",
       "        vertical-align: middle;\n",
       "    }\n",
       "\n",
       "    .dataframe tbody tr th {\n",
       "        vertical-align: top;\n",
       "    }\n",
       "\n",
       "    .dataframe thead th {\n",
       "        text-align: right;\n",
       "    }\n",
       "</style>\n",
       "<table border=\"1\" class=\"dataframe\">\n",
       "  <thead>\n",
       "    <tr style=\"text-align: right;\">\n",
       "      <th></th>\n",
       "      <th>index</th>\n",
       "      <th>Drug_Name</th>\n",
       "      <th>tags</th>\n",
       "    </tr>\n",
       "  </thead>\n",
       "  <tbody>\n",
       "    <tr>\n",
       "      <th>0</th>\n",
       "      <td>1</td>\n",
       "      <td>A CN Gel(Topical) 20gmA CN Soap 75gm</td>\n",
       "      <td>Mild to moderate acne (spots) Acne</td>\n",
       "    </tr>\n",
       "    <tr>\n",
       "      <th>1</th>\n",
       "      <td>2</td>\n",
       "      <td>A Ret 0.05% Gel 20gmA Ret 0.1% Gel 20gmA Ret 0...</td>\n",
       "      <td>A RET 0.025% is a prescription medicine that i...</td>\n",
       "    </tr>\n",
       "    <tr>\n",
       "      <th>2</th>\n",
       "      <td>3</td>\n",
       "      <td>ACGEL CL NANO Gel 15gm</td>\n",
       "      <td>It is used to treat acne vulgaris in people 12...</td>\n",
       "    </tr>\n",
       "    <tr>\n",
       "      <th>3</th>\n",
       "      <td>4</td>\n",
       "      <td>ACGEL NANO Gel 15gm</td>\n",
       "      <td>It is used to treat acne vulgaris in people 12...</td>\n",
       "    </tr>\n",
       "    <tr>\n",
       "      <th>4</th>\n",
       "      <td>5</td>\n",
       "      <td>Acleen 1% Lotion 25ml</td>\n",
       "      <td>treat the most severe form of acne (nodular ac...</td>\n",
       "    </tr>\n",
       "    <tr>\n",
       "      <th>...</th>\n",
       "      <td>...</td>\n",
       "      <td>...</td>\n",
       "      <td>...</td>\n",
       "    </tr>\n",
       "    <tr>\n",
       "      <th>9715</th>\n",
       "      <td>9716</td>\n",
       "      <td>T Muce Ointment 5gm</td>\n",
       "      <td>used for treating warts Wound</td>\n",
       "    </tr>\n",
       "    <tr>\n",
       "      <th>9716</th>\n",
       "      <td>9717</td>\n",
       "      <td>Wokadine 10% Solution 100mlWokadine Solution 5...</td>\n",
       "      <td>used to soften the skin cells Wound</td>\n",
       "    </tr>\n",
       "    <tr>\n",
       "      <th>9717</th>\n",
       "      <td>9718</td>\n",
       "      <td>Wokadine M Onit 10gm</td>\n",
       "      <td>used for scars Wound</td>\n",
       "    </tr>\n",
       "    <tr>\n",
       "      <th>9718</th>\n",
       "      <td>9719</td>\n",
       "      <td>Wound Fix Solution 100ml</td>\n",
       "      <td>used for wounds Wound</td>\n",
       "    </tr>\n",
       "    <tr>\n",
       "      <th>9719</th>\n",
       "      <td>9720</td>\n",
       "      <td>Wounsol Ointment 15gm</td>\n",
       "      <td>used to treat and remove raised warts (usually...</td>\n",
       "    </tr>\n",
       "  </tbody>\n",
       "</table>\n",
       "<p>9720 rows × 3 columns</p>\n",
       "</div>"
      ],
      "text/plain": [
       "      index                                          Drug_Name  \\\n",
       "0         1               A CN Gel(Topical) 20gmA CN Soap 75gm   \n",
       "1         2  A Ret 0.05% Gel 20gmA Ret 0.1% Gel 20gmA Ret 0...   \n",
       "2         3                             ACGEL CL NANO Gel 15gm   \n",
       "3         4                                ACGEL NANO Gel 15gm   \n",
       "4         5                              Acleen 1% Lotion 25ml   \n",
       "...     ...                                                ...   \n",
       "9715   9716                                T Muce Ointment 5gm   \n",
       "9716   9717  Wokadine 10% Solution 100mlWokadine Solution 5...   \n",
       "9717   9718                               Wokadine M Onit 10gm   \n",
       "9718   9719                           Wound Fix Solution 100ml   \n",
       "9719   9720                              Wounsol Ointment 15gm   \n",
       "\n",
       "                                                   tags  \n",
       "0                    Mild to moderate acne (spots) Acne  \n",
       "1     A RET 0.025% is a prescription medicine that i...  \n",
       "2     It is used to treat acne vulgaris in people 12...  \n",
       "3     It is used to treat acne vulgaris in people 12...  \n",
       "4     treat the most severe form of acne (nodular ac...  \n",
       "...                                                 ...  \n",
       "9715                      used for treating warts Wound  \n",
       "9716                used to soften the skin cells Wound  \n",
       "9717                               used for scars Wound  \n",
       "9718                              used for wounds Wound  \n",
       "9719  used to treat and remove raised warts (usually...  \n",
       "\n",
       "[9720 rows x 3 columns]"
      ]
     },
     "execution_count": 53,
     "metadata": {},
     "output_type": "execute_result"
    }
   ],
   "source": [
    "new_data_frame"
   ]
  },
  {
   "cell_type": "code",
   "execution_count": 54,
   "id": "8c3386ec",
   "metadata": {},
   "outputs": [],
   "source": [
    "new_data_frame['tags'] = new_df['tags'].apply(lambda x:x.lower())"
   ]
  },
  {
   "cell_type": "code",
   "execution_count": 55,
   "id": "f3fb97ad",
   "metadata": {},
   "outputs": [
    {
     "data": {
      "text/html": [
       "<div>\n",
       "<style scoped>\n",
       "    .dataframe tbody tr th:only-of-type {\n",
       "        vertical-align: middle;\n",
       "    }\n",
       "\n",
       "    .dataframe tbody tr th {\n",
       "        vertical-align: top;\n",
       "    }\n",
       "\n",
       "    .dataframe thead th {\n",
       "        text-align: right;\n",
       "    }\n",
       "</style>\n",
       "<table border=\"1\" class=\"dataframe\">\n",
       "  <thead>\n",
       "    <tr style=\"text-align: right;\">\n",
       "      <th></th>\n",
       "      <th>index</th>\n",
       "      <th>Drug_Name</th>\n",
       "      <th>tags</th>\n",
       "    </tr>\n",
       "  </thead>\n",
       "  <tbody>\n",
       "    <tr>\n",
       "      <th>0</th>\n",
       "      <td>1</td>\n",
       "      <td>A CN Gel(Topical) 20gmA CN Soap 75gm</td>\n",
       "      <td>mild to moder acn (spots) acn</td>\n",
       "    </tr>\n",
       "    <tr>\n",
       "      <th>1</th>\n",
       "      <td>2</td>\n",
       "      <td>A Ret 0.05% Gel 20gmA Ret 0.1% Gel 20gmA Ret 0...</td>\n",
       "      <td>a ret 0.025% is a prescript medicin that is us...</td>\n",
       "    </tr>\n",
       "    <tr>\n",
       "      <th>2</th>\n",
       "      <td>3</td>\n",
       "      <td>ACGEL CL NANO Gel 15gm</td>\n",
       "      <td>it is use to treat acn vulgari in peopl 12 yea...</td>\n",
       "    </tr>\n",
       "    <tr>\n",
       "      <th>3</th>\n",
       "      <td>4</td>\n",
       "      <td>ACGEL NANO Gel 15gm</td>\n",
       "      <td>it is use to treat acn vulgari in peopl 12 yea...</td>\n",
       "    </tr>\n",
       "    <tr>\n",
       "      <th>4</th>\n",
       "      <td>5</td>\n",
       "      <td>Acleen 1% Lotion 25ml</td>\n",
       "      <td>treat the most sever form of acn (nodular acne...</td>\n",
       "    </tr>\n",
       "    <tr>\n",
       "      <th>...</th>\n",
       "      <td>...</td>\n",
       "      <td>...</td>\n",
       "      <td>...</td>\n",
       "    </tr>\n",
       "    <tr>\n",
       "      <th>9715</th>\n",
       "      <td>9716</td>\n",
       "      <td>T Muce Ointment 5gm</td>\n",
       "      <td>use for treat wart wound</td>\n",
       "    </tr>\n",
       "    <tr>\n",
       "      <th>9716</th>\n",
       "      <td>9717</td>\n",
       "      <td>Wokadine 10% Solution 100mlWokadine Solution 5...</td>\n",
       "      <td>use to soften the skin cell wound</td>\n",
       "    </tr>\n",
       "    <tr>\n",
       "      <th>9717</th>\n",
       "      <td>9718</td>\n",
       "      <td>Wokadine M Onit 10gm</td>\n",
       "      <td>use for scar wound</td>\n",
       "    </tr>\n",
       "    <tr>\n",
       "      <th>9718</th>\n",
       "      <td>9719</td>\n",
       "      <td>Wound Fix Solution 100ml</td>\n",
       "      <td>use for wound wound</td>\n",
       "    </tr>\n",
       "    <tr>\n",
       "      <th>9719</th>\n",
       "      <td>9720</td>\n",
       "      <td>Wounsol Ointment 15gm</td>\n",
       "      <td>use to treat and remov rais wart (usual found ...</td>\n",
       "    </tr>\n",
       "  </tbody>\n",
       "</table>\n",
       "<p>9720 rows × 3 columns</p>\n",
       "</div>"
      ],
      "text/plain": [
       "      index                                          Drug_Name  \\\n",
       "0         1               A CN Gel(Topical) 20gmA CN Soap 75gm   \n",
       "1         2  A Ret 0.05% Gel 20gmA Ret 0.1% Gel 20gmA Ret 0...   \n",
       "2         3                             ACGEL CL NANO Gel 15gm   \n",
       "3         4                                ACGEL NANO Gel 15gm   \n",
       "4         5                              Acleen 1% Lotion 25ml   \n",
       "...     ...                                                ...   \n",
       "9715   9716                                T Muce Ointment 5gm   \n",
       "9716   9717  Wokadine 10% Solution 100mlWokadine Solution 5...   \n",
       "9717   9718                               Wokadine M Onit 10gm   \n",
       "9718   9719                           Wound Fix Solution 100ml   \n",
       "9719   9720                              Wounsol Ointment 15gm   \n",
       "\n",
       "                                                   tags  \n",
       "0                         mild to moder acn (spots) acn  \n",
       "1     a ret 0.025% is a prescript medicin that is us...  \n",
       "2     it is use to treat acn vulgari in peopl 12 yea...  \n",
       "3     it is use to treat acn vulgari in peopl 12 yea...  \n",
       "4     treat the most sever form of acn (nodular acne...  \n",
       "...                                                 ...  \n",
       "9715                           use for treat wart wound  \n",
       "9716                  use to soften the skin cell wound  \n",
       "9717                                 use for scar wound  \n",
       "9718                                use for wound wound  \n",
       "9719  use to treat and remov rais wart (usual found ...  \n",
       "\n",
       "[9720 rows x 3 columns]"
      ]
     },
     "execution_count": 55,
     "metadata": {},
     "output_type": "execute_result"
    }
   ],
   "source": [
    "new_data_frame"
   ]
  },
  {
   "cell_type": "markdown",
   "id": "270a1996",
   "metadata": {},
   "source": [
    "# Stemming using NLTK Library and comparing results"
   ]
  },
  {
   "cell_type": "code",
   "execution_count": 56,
   "id": "7fc33052",
   "metadata": {},
   "outputs": [],
   "source": [
    "import nltk"
   ]
  },
  {
   "cell_type": "code",
   "execution_count": 57,
   "id": "c61623c7",
   "metadata": {},
   "outputs": [],
   "source": [
    "from nltk.stem.porter import PorterStemmer\n",
    "PS = PorterStemmer()"
   ]
  },
  {
   "cell_type": "code",
   "execution_count": 70,
   "id": "b7f091bc",
   "metadata": {},
   "outputs": [],
   "source": [
    "def stem(text):\n",
    "  A = []\n",
    "\n",
    "  for i in text.split():\n",
    "    A.append(ps.stem(i))\n",
    "\n",
    "  return \" \".join(A)"
   ]
  },
  {
   "cell_type": "code",
   "execution_count": 71,
   "id": "806d618a",
   "metadata": {},
   "outputs": [],
   "source": [
    "new_data_frame['tags'] = new_data_frame['tags'].apply(stem)"
   ]
  },
  {
   "cell_type": "markdown",
   "id": "c8fc2df5",
   "metadata": {},
   "source": [
    "# Implementing Count Vectorizer to make words in vector form"
   ]
  },
  {
   "cell_type": "code",
   "execution_count": 58,
   "id": "c6a95139",
   "metadata": {},
   "outputs": [],
   "source": [
    "from sklearn.feature_extraction.text import CountVectorizer\n",
    "CV = CountVectorizer(stop_words='english',max_features=5000)"
   ]
  },
  {
   "cell_type": "code",
   "execution_count": 61,
   "id": "998df7d8",
   "metadata": {},
   "outputs": [
    {
     "data": {
      "text/plain": [
       "(9720, 805)"
      ]
     },
     "execution_count": 61,
     "metadata": {},
     "output_type": "execute_result"
    }
   ],
   "source": [
    "CV.fit_transform(new_data_frame['tags']).toarray().shape"
   ]
  },
  {
   "cell_type": "code",
   "execution_count": 61,
   "id": "83f6f3dd",
   "metadata": {},
   "outputs": [
    {
     "data": {
      "text/plain": [
       "(9720, 805)"
      ]
     },
     "execution_count": 61,
     "metadata": {},
     "output_type": "execute_result"
    }
   ],
   "source": [
    "CV.fit_transform(new_data_frame['tags']).toarray().shapeCV.fit_transform(new_data_frame['tags']).toarray().shape"
   ]
  },
  {
   "cell_type": "code",
   "execution_count": 61,
   "id": "722ef860",
   "metadata": {},
   "outputs": [
    {
     "data": {
      "text/plain": [
       "(9720, 805)"
      ]
     },
     "execution_count": 61,
     "metadata": {},
     "output_type": "execute_result"
    }
   ],
   "source": [
    "CV.fit_transform(new_data_frame['tags']).toarray().shape"
   ]
  },
  {
   "cell_type": "code",
   "execution_count": 62,
   "id": "64c77d74",
   "metadata": {},
   "outputs": [],
   "source": [
    "vec = CV.fit_transform(new_data_frame['tags']).toarray()"
   ]
  },
  {
   "cell_type": "code",
   "execution_count": 63,
   "id": "cac593ef",
   "metadata": {},
   "outputs": [
    {
     "data": {
      "text/plain": [
       "array(['025', '12', '16', '18', 'abdomin', 'abl', 'ach', 'acid', 'acn',\n",
       "       'acne', 'acquir', 'action', 'activ', 'acut', 'acute', 'adequ',\n",
       "       'adhd', 'adjunct', 'adolesc', 'adult', 'adults', 'affect', 'ag',\n",
       "       'age', 'aids', 'allerg', 'allergen', 'allergi', 'allow', 'alon',\n",
       "       'alzheim', 'alzheimer', 'alzheimerâ', 'amoebiasi', 'anaemia',\n",
       "       'anal', 'angina', 'angl', 'ani', 'ankylo', 'anorexia', 'anoth',\n",
       "       'anti', 'antioxid', 'antipsychot', 'antiretrovir', 'anxieti',\n",
       "       'anxiou', 'anxious', 'apnoea', 'appear', 'appetit', 'appetite',\n",
       "       'appli', 'appropri', 'area', 'arrhythmia', 'arrhythmiasi',\n",
       "       'arteri', 'arthralgia', 'arthriti', 'associ', 'atherothrombot',\n",
       "       'athleteâ', 'atop', 'atrial', 'attack', 'awak', 'b1', 'b2', 'b3',\n",
       "       'b5', 'b6', 'babi', 'backache', 'bacteri', 'bacteria', 'balanc',\n",
       "       'balanitis', 'bandag', 'becom', 'behaviour', 'beliefs', 'benefit',\n",
       "       'beta', 'biliari', 'biotin', 'bite', 'blackhead', 'blackheads',\n",
       "       'bleaches', 'bleed', 'bloating', 'block', 'blood', 'bodi', 'bodyâ',\n",
       "       'bon', 'bone', 'bones', 'bowel', 'brain', 'breakdown', 'breath',\n",
       "       'brighten', 'bronchiti', 'brown', 'bursitis', 'calcium', 'calm',\n",
       "       'cancer', 'candid', 'candidiasis', 'canâ', 'carbohydr',\n",
       "       'cardiovascular', 'care', 'carrier', 'cartilag', 'case', 'cases',\n",
       "       'cataract', 'cau', 'cavity', 'cell', 'certain', 'chanc', 'chang',\n",
       "       'characteri', 'chemic', 'chemotherapi', 'chest', 'chickenpox',\n",
       "       'childhood', 'children', 'chlosma', 'cholesterol', 'chronic',\n",
       "       'clean', 'cleaner', 'cleanser', 'clear', 'clot', 'cmv', 'cold',\n",
       "       'colds', 'colic', 'colon', 'colorect', 'coma', 'combin', 'common',\n",
       "       'complet', 'complexion', 'concomit', 'condit', 'conditions',\n",
       "       'confused', 'confusion', 'congestion', 'conjunct', 'consciousness',\n",
       "       'consid', 'consist', 'constip', 'constipation', 'constipationâ',\n",
       "       'continu', 'contracept', 'control', 'contusion', 'convent',\n",
       "       'convulsion', 'corpori', 'corticosteroid', 'cough', 'cramp',\n",
       "       'cream', 'cruri', 'cushion', 'cycl', 'cytomegaloviru',\n",
       "       'cytoprotect', 'd3', 'daili', 'damag', 'dandruff', 'dark', 'death',\n",
       "       'decrea', 'defici', 'degr', 'degrad', 'delay', 'demand',\n",
       "       'dementia', 'dental', 'deposit', 'depress', 'depressed', 'dermat',\n",
       "       'deterg', 'diabet', 'diagnost', 'diarrhea', 'diarrhoea', 'diet',\n",
       "       'differ', 'difficult', 'difficulti', 'digest', 'digestion',\n",
       "       'dilate', 'discolor', 'discoloured', 'disea', 'disord', 'disorder',\n",
       "       'disorders', 'displac', 'disten', 'dizzi', 'doctor', 'doe',\n",
       "       'drain', 'drained', 'dri', 'drop', 'drowsi', 'drugs', 'dull',\n",
       "       'dure', 'dysmenorrhea', 'ear', 'ears', 'eczema', 'effect',\n",
       "       'effects', 'elbow', 'element', 'emot', 'encephalopathi',\n",
       "       'endometriosi', 'energi', 'energy', 'enhanc', 'enlarg', 'enzym',\n",
       "       'enzyme', 'epicondylitis', 'episod', 'especi', 'essenti', 'event',\n",
       "       'excess', 'exerci', 'exfoli', 'exocrin', 'extern', 'extra', 'eye',\n",
       "       'eyes', 'face', 'fade', 'fail', 'failur', 'failure', 'fast', 'fat',\n",
       "       'fatigue', 'fats', 'fatti', 'febril', 'feed', 'feel', 'feet',\n",
       "       'fever', 'feverish', 'fibril', 'fine', 'fissur', 'flat', 'flatul',\n",
       "       'flatulence', 'flexibl', 'flow', 'flu', 'fluid', 'flutter', 'focu',\n",
       "       'folic', 'follow', 'food', 'foot', 'form', 'format', 'free',\n",
       "       'fresh', 'friction', 'function', 'fungal', 'fungi', 'fungu',\n",
       "       'gain', 'gener', 'genit', 'gland', 'glaucoma', 'glow',\n",
       "       'gonorrhoea', 'good', 'gout', 'gradual', 'gravi', 'growth',\n",
       "       'guilty', 'gum', 'ha', 'haematopoiesi', 'haemorrhoid',\n",
       "       'haemorrhoidectomi', 'haemorrhoids', 'hair', 'hallucinations',\n",
       "       'hands', 'hard', 'hay', 'head', 'headach', 'headache', 'heal',\n",
       "       'health', 'healthy', 'hear', 'hearing', 'heart', 'heartbeat',\n",
       "       'help', 'hepat', 'herp', 'high', 'hiv', 'hives', 'hormon',\n",
       "       'hospit', 'human', 'hygien', 'hypercalcaemia', 'hyperparathyroid',\n",
       "       'hyperpig', 'hyperpigmentation', 'hyperten', 'hypertension',\n",
       "       'hyperthyroid', 'hypertrophi', 'hypnosi', 'hypoten', 'hypothyroid',\n",
       "       'hypothyroidism', 'hyroid', 'ibs', 'immun', 'immunodefici',\n",
       "       'improv', 'improvesâ', 'includ', 'incoh', 'incomplet', 'increa',\n",
       "       'indic', 'indigest', 'induc', 'infect', 'infection', 'infections',\n",
       "       'infest', 'inflamm', 'inflammationâ', 'inflammatori', 'influenza',\n",
       "       'infrequ', 'inguinalis', 'inhal', 'inhibitor', 'injuri', 'inner',\n",
       "       'insect', 'insid', 'insomnia', 'insufficiencyâ', 'integr', 'inten',\n",
       "       'interdigit', 'intern', 'interrupt', 'intestin', 'intestinal',\n",
       "       'intol', 'inva', 'involuntari', 'iodine', 'iritis', 'iron',\n",
       "       'irrit', 'isâ', 'itch', 'itâ', 'jewelleri', 'jock', 'joint',\n",
       "       'kidney', 'kit', 'knees', 'known', 'lack', 'lactat', 'lead',\n",
       "       'learning', 'left', 'level', 'lice', 'life', 'ligaments', 'line',\n",
       "       'lip', 'liquid', 'liv', 'live', 'liver', 'long', 'look', 'lose',\n",
       "       'loss', 'lotion', 'lower', 'lowersâ', 'lowerâ', 'lung', 'lvh',\n",
       "       'mainli', 'maintain', 'major', 'make', 'malari', 'malaria',\n",
       "       'malignancies', 'manag', 'manganese', 'mani', 'manuum', 'marrow',\n",
       "       'medic', 'medicin', 'melanin', 'melasma', 'mellitu', 'memori',\n",
       "       'men', 'mene', 'menopau', 'mental', 'metabol', 'methyl',\n",
       "       'micronutri', 'migrain', 'migraine', 'mild', 'milk', 'miner',\n",
       "       'minor', 'mistaken', 'mobil', 'moder', 'moderate', 'moistur',\n",
       "       'molybdenum', 'motion', 'movement', 'movements', 'muscl',\n",
       "       'muscular', 'musculoskelet', 'myalgia', 'myasthenia', 'mydriasi',\n",
       "       'myeloid', 'narrow', 'nasal', 'natur', 'nausea', 'need',\n",
       "       'nephropathy', 'nerv', 'nervosa', 'nervousness', 'nettl',\n",
       "       'neuralgia', 'neutral', 'newborns', 'nodular', 'non', 'normal',\n",
       "       'nose', 'nutrient', 'nutrit', 'occur', 'ocular', 'ofâ', 'oili',\n",
       "       'older', 'onli', 'op', 'open', 'oper', 'oral', 'origin',\n",
       "       'osteoarthr', 'osteodystrophy', 'osteoporosi', 'oxid', 'oxidation',\n",
       "       'pah', 'pain', 'pancrea', 'parali', 'parathyroid', 'parkinson',\n",
       "       'parkinsonâ', 'passag', 'patch', 'patches', 'patient', 'patientsâ',\n",
       "       'pectori', 'pectoris', 'pedis', 'pelvic', 'penil', 'peopl',\n",
       "       'peptid', 'period', 'physic', 'piles', 'pimpl', 'pimple',\n",
       "       'pityriasi', 'polysaccharid', 'portal', 'post', 'potent', 'power',\n",
       "       'pre', 'prednisolon', 'pregnanc', 'prematur', 'preoper',\n",
       "       'prescrib', 'prescript', 'present', 'pressur', 'prevent', 'prexia',\n",
       "       'primari', 'prinzmet', 'problem', 'procedur', 'process',\n",
       "       'proctiti', 'produc', 'product', 'progress', 'prolactin', 'promot',\n",
       "       'properti', 'protect', 'provid', 'pseudo', 'psychosi',\n",
       "       'psychosomat', 'pulmonari', 'pupil', 'pyrexia', 'rabi', 'radicals',\n",
       "       'radiculitis', 'rai', 'rarer', 'rash', 'react', 'reaction',\n",
       "       'receiv', 'recommend', 'red', 'reduc', 'reduct', 'refer', 'regen',\n",
       "       'regimen', 'relat', 'releief', 'relief', 'reliev', 'reliv',\n",
       "       'remov', 'renal', 'repair', 'replac', 'reproduct', 'resist',\n",
       "       'respiratori', 'respon', 'respond', 'restor', 'ret', 'retin',\n",
       "       'rheumat', 'ring', 'ringworm', 'root', 'rosacea', 'scabi', 'scali',\n",
       "       'scalp', 'scar', 'schizophren', 'schizophrenia', 'seborrh', 'sed',\n",
       "       'sedat', 'sen', 'sever', 'shingl', 'short', 'sick', 'sickness',\n",
       "       'silki', 'simpl', 'simplex', 'sinusitis', 'skelet', 'skin',\n",
       "       'skinâ', 'sleep', 'slow', 'small', 'smoke', 'smooth', 'soaps',\n",
       "       'soar', 'soft', 'soften', 'soothen', 'sore', 'sores', 'spasmod',\n",
       "       'speech', 'speed', 'spondyl', 'spot', 'spots', 'sprain', 'spread',\n",
       "       'stabil', 'starch', 'start', 'state', 'steroids', 'stiff',\n",
       "       'stomach', 'stools', 'stop', 'strains', 'strengthen', 'stroke',\n",
       "       'structur', 'substanc', 'suffer', 'sugar', 'sunburn', 'sunscreen',\n",
       "       'suppl', 'supplement', 'support', 'surgeri', 'surgeryâ', 'surgic',\n",
       "       'suspiciousness', 'sweat', 'swell', 'swelling', 'swollen',\n",
       "       'symptom', 'symptomat', 'symptoms', 'syndrom', 'synovi',\n",
       "       'synovitis', 'synthesi', 'synthet', 'syphilis', 'tablet',\n",
       "       'tachycardia', 'task', 'temperature', 'tender', 'tendonitis',\n",
       "       'term', 'textur', 'therapi', 'therebi', 'thi', 'thing', 'throat',\n",
       "       'thrombolysi', 'thrush', 'thu', 'thyroid', 'thyroxin', 'time',\n",
       "       'tinea', 'tinnitus', 'tissu', 'tissues', 'toe', 'tone', 'tonsil',\n",
       "       'tonsilitis', 'tonsillectomi', 'toothach', 'toothache', 'topic',\n",
       "       'trace', 'tract', 'transmit', 'transplant', 'trauma', 'traumat',\n",
       "       'travel', 'treat', 'treatment', 'treatsâ', 'treatâ', 'tremor',\n",
       "       'triglycerid', 'tubercular', 'type', 'ulcer', 'unabl', 'unbalanc',\n",
       "       'uncompl', 'uneven', 'unstabl', 'unusu', 'unwant', 'upper',\n",
       "       'uptak', 'urate', 'uretericâ', 'uric', 'urinaryâ', 'use', 'uses',\n",
       "       'usual', 'uveiti', 'vaccin', 'vagin', 'variant', 'varieti',\n",
       "       'ventricular', 'verruca', 'versicolor', 'vertigo', 'vessel',\n",
       "       'viral', 'viru', 'virus', 'vitamin', 'vitamins', 'volume', 'vomit',\n",
       "       'vulgari', 'vulgarisâ', 'wall', 'wart', 'wash', 'weak', 'weaken',\n",
       "       'weight', 'wet', 'whichâ', 'whilst', 'white', 'widen', 'withdrawn',\n",
       "       'womb', 'women', 'work', 'worsen', 'wound', 'wrinkl', 'wrinkles',\n",
       "       'year', 'younger', 'zinc', 'œpancreat'], dtype=object)"
      ]
     },
     "execution_count": 63,
     "metadata": {},
     "output_type": "execute_result"
    }
   ],
   "source": [
    "CV.get_feature_names_out()"
   ]
  },
  {
   "cell_type": "markdown",
   "id": "d9f14ad2",
   "metadata": {},
   "source": [
    "# Building Recommender system"
   ]
  },
  {
   "cell_type": "code",
   "execution_count": 64,
   "id": "ea76bae9",
   "metadata": {},
   "outputs": [],
   "source": [
    "from sklearn.metrics.pairwise import cosine_similarity\n",
    "sim = cosine_similarity(vec)"
   ]
  },
  {
   "cell_type": "code",
   "execution_count": 65,
   "id": "b57f4eb6",
   "metadata": {},
   "outputs": [
    {
     "data": {
      "text/plain": [
       "array([0.25197632, 1.        , 0.25660012, ..., 0.19245009, 0.1490712 ,\n",
       "       0.0860663 ])"
      ]
     },
     "execution_count": 65,
     "metadata": {},
     "output_type": "execute_result"
    }
   ],
   "source": [
    "sim[1]"
   ]
  },
  {
   "cell_type": "code",
   "execution_count": 66,
   "id": "03e7c55e",
   "metadata": {},
   "outputs": [],
   "source": [
    "def recommend(medicine):\n",
    "    medicine_index = new_data_frame[new_data_frame['Drug_Name'] == medicine].index[0]\n",
    "    dist = sim[medicine_index]\n",
    "    medicines_list = sorted(list(enumerate(dist)),reverse=True,key=lambda x:x[1])[1:6]\n",
    "    \n",
    "    for i in medicines_list:\n",
    "        print(new_data_frame.iloc[i[0]].Drug_Name)"
   ]
  },
  {
   "cell_type": "code",
   "execution_count": 67,
   "id": "d93be07d",
   "metadata": {},
   "outputs": [
    {
     "name": "stdout",
     "output_type": "stream",
     "text": [
      "Oxypamol D Tablet 10'S\n",
      "Pacimol MF Tablet 10'S\n",
      "Painil Plus 100/500mg Tablet 10'S\n",
      "Pamagin Plus Gel 30gm\n",
      "Paracetamol 125mg Syrup 60mlParacetamol 500mg Tablet 10'S\n"
     ]
    }
   ],
   "source": [
    "recommend(\"Paracetamol 125mg Syrup 60mlParacetamol 500mg Tablet 10'S\")"
   ]
  },
  {
   "cell_type": "code",
   "execution_count": 68,
   "id": "da54f686",
   "metadata": {},
   "outputs": [],
   "source": [
    "import pickle"
   ]
  },
  {
   "cell_type": "code",
   "execution_count": 69,
   "id": "809fa628",
   "metadata": {},
   "outputs": [],
   "source": [
    "pickle.dump(new_data_frame.to_dict(),open('medicine_dict.pkl','wb'))\n",
    "pickle.dump(similarity,open('similarity.pkl','wb'))"
   ]
  },
  {
   "cell_type": "code",
   "execution_count": null,
   "id": "bc7a98b0",
   "metadata": {},
   "outputs": [],
   "source": []
  }
 ],
 "metadata": {
  "kernelspec": {
   "display_name": "Python 3 (ipykernel)",
   "language": "python",
   "name": "python3"
  },
  "language_info": {
   "codemirror_mode": {
    "name": "ipython",
    "version": 3
   },
   "file_extension": ".py",
   "mimetype": "text/x-python",
   "name": "python",
   "nbconvert_exporter": "python",
   "pygments_lexer": "ipython3",
   "version": "3.9.13"
  }
 },
 "nbformat": 4,
 "nbformat_minor": 5
}
